{
 "cells": [
  {
   "cell_type": "markdown",
   "metadata": {},
   "source": [
    "# Main functions used in experiments"
   ]
  },
  {
   "cell_type": "code",
   "execution_count": 4,
   "metadata": {},
   "outputs": [],
   "source": [
    "import numpy as np\n",
    "from collections import defaultdict\n",
    "from tqdm import tqdm as _tqdm\n",
    "\n",
    "def tqdm(*args, **kwargs):\n",
    "    return _tqdm(*args, **kwargs, mininterval=1)  # Safety, do not overflow buffer\n",
    "%matplotlib inline\n",
    "import matplotlib.pyplot as plt\n",
    "import sys\n",
    "\n",
    "import random\n",
    "import time\n",
    "assert sys.version_info[:3] >= (3, 6, 0), \"Make sure you have Python 3.6 installed!\""
   ]
  },
  {
   "cell_type": "markdown",
   "metadata": {},
   "source": [
    "## Environment: Windy gridworld\n",
    "Gives a reward of -1 for each step taken, while the final state is not reached"
   ]
  },
  {
   "cell_type": "code",
   "execution_count": 5,
   "metadata": {},
   "outputs": [],
   "source": [
    "from windy_gridworld import WindyGridworldEnv\n",
    "env = WindyGridworldEnv()\n",
    "env??"
   ]
  },
  {
   "cell_type": "markdown",
   "metadata": {},
   "source": [
    "## Policy\n",
    "\n",
    "### Target policy (choose greedy vs non-greedy)\n",
    "Greedy policy "
   ]
  },
  {
   "cell_type": "code",
   "execution_count": 6,
   "metadata": {},
   "outputs": [],
   "source": [
    "class GreedyPolicy(object):\n",
    "    \"\"\"\n",
    "    A simple epsilon greedy policy.\n",
    "    \"\"\"\n",
    "    def __init__(self, Q):\n",
    "        self.Q = Q\n",
    "    \n",
    "    def get_probs(self, state, action):\n",
    "        \"\"\"\n",
    "        Takes a state and an action and returns the probability of taking that action from \n",
    "        that state, under Q and a greedy policy\n",
    "        \"\"\"   \n",
    "        # for state and action only:\n",
    "        action_probs = self.Q[state]\n",
    "        max_indices = np.argwhere(action_probs == np.amax(action_probs))\n",
    "        \n",
    "        if action in max_indices:\n",
    "            prob = 1/len(max_indices)\n",
    "        else:\n",
    "            prob = 0\n",
    "        \n",
    "        return prob\n",
    "        \n",
    "    def sample_action(self, obs):\n",
    "        \"\"\"\n",
    "        This method takes a state as input and returns an action sampled from this policy.  \n",
    "\n",
    "        Args:\n",
    "            obs: current state\n",
    "\n",
    "        Returns:\n",
    "            An action (int).\n",
    "        \"\"\"\n",
    "\n",
    "        best_actions = [i for i, j in enumerate([self.Q[obs][i] for i in range(4)]) \n",
    "                   if j == max([self.Q[obs][i] for i in range(4)])] \n",
    "\n",
    "        best_action = np.random.choice(best_actions)\n",
    "        \n",
    "        return best_action"
   ]
  },
  {
   "cell_type": "code",
   "execution_count": 7,
   "metadata": {},
   "outputs": [],
   "source": [
    "class EpsilonGreedyPolicy(object):\n",
    "    \"\"\"\n",
    "    A simple epsilon greedy policy.\n",
    "    \"\"\"\n",
    "    def __init__(self, Q, epsilon):\n",
    "        self.Q = Q\n",
    "        self.epsilon = epsilon\n",
    "        \n",
    "    def get_probs(self, state, action):\n",
    "        \"\"\"\n",
    "        Takes a state and an action and returns the probability of taking that action from \n",
    "        that state, under Q and a epsilon greedy policy\n",
    "        \"\"\"\n",
    "\n",
    "        action_probs = self.Q[state]\n",
    "        max_indices = np.argwhere(action_probs == np.amax(action_probs))\n",
    "        \n",
    "        # all probs are equal, give all equal probabilities\n",
    "        if len(max_indices) == len(action_probs):\n",
    "            return 1/len(max_indices)\n",
    "            \n",
    "        if action in max_indices:\n",
    "            prob = (1-self.epsilon)/len(max_indices)\n",
    "        else:\n",
    "            prob = epsilon / (len(action_probs) - len(max_indices))\n",
    "        \n",
    "        return prob\n",
    "    \n",
    "\n",
    "    def sample_action(self, obs):\n",
    "        \"\"\"\n",
    "        This method takes a state as input and returns an action sampled from this policy.  \n",
    "\n",
    "        Args:\n",
    "            obs: current state\n",
    "\n",
    "        Returns:\n",
    "            An action (int).\n",
    "        \"\"\"\n",
    "         \n",
    "        best_actions = [i for i, j in enumerate(self.Q[obs])\n",
    "                   if j == np.max(self.Q[obs])] \n",
    "\n",
    "        p = np.random.uniform()\n",
    "        if p > self.epsilon:\n",
    "            # choose one of the best actions\n",
    "            action = np.random.choice(best_actions)\n",
    "        else:\n",
    "            # return a random action\n",
    "            action = np.random.randint(0,4)\n",
    "                \n",
    "        return action\n"
   ]
  },
  {
   "cell_type": "markdown",
   "metadata": {},
   "source": [
    "## Monte Carlo"
   ]
  },
  {
   "cell_type": "markdown",
   "metadata": {},
   "source": [
    "## Sampling function given an env and policy\n",
    "Function to sample an episode from the env."
   ]
  },
  {
   "cell_type": "code",
   "execution_count": 8,
   "metadata": {},
   "outputs": [],
   "source": [
    "def sample_episode(env, policy):\n",
    "    \"\"\"\n",
    "    A sampling routine. Given environment and a policy samples one episode and returns states, actions, rewards\n",
    "    and dones from environment's step function and policy's sample_action function as lists.\n",
    "\n",
    "    Args:\n",
    "        env: OpenAI gym environment.\n",
    "        policy: A policy which allows us to sample actions with its sample_action method.\n",
    "\n",
    "    Returns:\n",
    "        Tuple of lists (states, actions, rewards, dones). All lists should have same length. \n",
    "        state after the termination is not included in the list of states.\n",
    "    \"\"\"\n",
    "    # initialize\n",
    "    states = []\n",
    "    actions = []\n",
    "    rewards = []\n",
    "    dones = []\n",
    "    \n",
    "    # get a starting state\n",
    "    s = env.reset()\n",
    "    d = False\n",
    "    \n",
    "    # keep looping until done, don's save the terminal state\n",
    "    while not d:\n",
    "        states.append(s)\n",
    "        a = policy.sample_action(s)\n",
    "        s, r, d, _ = env.step(a)\n",
    "        \n",
    "        # save                \n",
    "        actions.append(a)\n",
    "        rewards.append(r)\n",
    "        dones.append(d)\n",
    "        \n",
    "\n",
    "    return states, actions, rewards, dones"
   ]
  },
  {
   "cell_type": "code",
   "execution_count": 9,
   "metadata": {},
   "outputs": [
    {
     "name": "stdout",
     "output_type": "stream",
     "text": [
      "length of episode 0: 3311\n"
     ]
    }
   ],
   "source": [
    "# check the length of episodes that are generated for eps greedy policy\n",
    "Q = np.zeros((env.nS, env.nA))\n",
    "bp = EpsilonGreedyPolicy(Q, epsilon=0.1)\n",
    "\n",
    "for episode in range(1):\n",
    "    trajectory_data = sample_episode(env, bp)\n",
    "    print(f\"length of episode {episode}: {len(trajectory_data[0])}\")"
   ]
  },
  {
   "cell_type": "markdown",
   "metadata": {},
   "source": [
    "## MC Ordinary Importance Sampling\n"
   ]
  },
  {
   "cell_type": "code",
   "execution_count": 11,
   "metadata": {},
   "outputs": [],
   "source": [
    "def mc_ordinary_importance_sampling(env, behavior_policy, target_policy, num_episodes, weighted=False, discount_factor=1.0,\n",
    "                           sampling_function=sample_episode, epsilon=0.05, seed=42):\n",
    "    \"\"\"\n",
    "    Monte Carlo prediction algorithm. Calculates the Q function\n",
    "    for a given target policy using behavior policy and ordinary importance sampling.\n",
    "    \n",
    "    Args:\n",
    "        env: OpenAI gym environment.\n",
    "        behavior_policy: A policy used to collect the data.\n",
    "        target_policy: A policy which value function we want to estimate.\n",
    "        num_episodes: Number of episodes to sample.\n",
    "        discount_factor: Gamma discount factor.\n",
    "        sampling_function: Function that generates data from one episode.\n",
    "    \n",
    "    Returns:\n",
    "        A dictionary that maps from (state, action) -> value.\n",
    "    \"\"\"\n",
    "\n",
    "    # set the current Q to a large negative value\n",
    "    Q = np.ones((env.nS, env.nA)) * -100\n",
    "    returns_count = defaultdict(lambda: defaultdict(float))\n",
    "    \n",
    "    episode_lens = []\n",
    "    \n",
    "    # set seed\n",
    "    np.random.seed(seed)\n",
    "    \n",
    "    # sample episodes\n",
    "    for i in tqdm(range(num_episodes), position=0):\n",
    "        # update behavioral and target policy\n",
    "        behavior_policy.Q = Q\n",
    "        target_policy.Q = Q        \n",
    "    \n",
    "        # sample episode with new behavioural function\n",
    "        states, actions, rewards, dones = sampling_function(env, behavior_policy)\n",
    "        \n",
    "        # save the episode length\n",
    "        episode_lens.append(len(states)) \n",
    "\n",
    "        G = 0        \n",
    "        W = 1\n",
    "        \n",
    "        # loop backwards over the trajectory\n",
    "        for i, timestep in enumerate(range(len(states)-1, -1, -1)):\n",
    "            s = states[timestep]\n",
    "            r = rewards[timestep]\n",
    "            a = actions[timestep]\n",
    "            G = discount_factor * G + r\n",
    "            \n",
    "            returns_count[s][a] += 1 \n",
    "            \n",
    "            # use every visit incremental method\n",
    "            Q[s][a] += 1/returns_count[s][a] * (W * G - Q[s][a])\n",
    "            \n",
    "            W *= (target_policy.get_probs(s, a)) / (behavior_policy.get_probs(s, a))        \n",
    "            if W == 0:\n",
    "                break\n",
    "        \n",
    "    return Q, episode_lens"
   ]
  },
  {
   "cell_type": "markdown",
   "metadata": {},
   "source": [
    "### MC: Weighted Importance Sampling"
   ]
  },
  {
   "cell_type": "code",
   "execution_count": 12,
   "metadata": {},
   "outputs": [],
   "source": [
    "def mc_weighted_importance_sampling(env, behavior_policy, target_policy, num_episodes, discount_factor=1.0,\n",
    "                           sampling_function=sample_episode, epsilon=0.05, seed=42):\n",
    "    \"\"\"\n",
    "    Monte Carlo prediction algorithm. Calculates the Q function\n",
    "    for a given target policy using behavior policy and weighted importance sampling.\n",
    "    \n",
    "    Args:\n",
    "        env: OpenAI gym environment.\n",
    "        behavior_policy: A policy used to collect the data.\n",
    "        target_policy: A policy which value function we want to estimate.\n",
    "        num_episodes: Number of episodes to sample.\n",
    "        discount_factor: Gamma discount factor.\n",
    "        sampling_function: Function that generates data from one episode.\n",
    "    \n",
    "    Returns:\n",
    "        A dictionary that maps from (state, action) -> value.\n",
    "        the lengths of the episodes generated throughout training.\n",
    "    \"\"\"\n",
    "\n",
    "    # create a matrix defaultdict for the Q function and the sum of weights C\n",
    "    Q = np.ones((env.nS, env.nA)) * -100\n",
    "    C = defaultdict(lambda: defaultdict(float))\n",
    "    \n",
    "    # set seed\n",
    "    np.random.seed(seed)\n",
    "    \n",
    "    episode_lens = []\n",
    "    \n",
    "    # sample episodes\n",
    "    for i in tqdm(range(num_episodes), position=0):\n",
    "        # update behavioral and target policy\n",
    "        behavior_policy.Q = Q\n",
    "        target_policy.Q = Q\n",
    "\n",
    "        # sample episode with new behavioural function\n",
    "        states, actions, rewards, dones = sampling_function(env, behavior_policy)\n",
    "        \n",
    "        # save episode lengths\n",
    "        episode_lens.append(len(states))\n",
    "            \n",
    "        # initialize the return and the weight\n",
    "        G = 0\n",
    "        W = 1\n",
    "        \n",
    "        # loop backwards over the trajectory\n",
    "        for i, timestep in enumerate(range(len(states)-1, -1, -1)): \n",
    "            # extract info of current timestep from trajectory    \n",
    "            s = states[timestep]\n",
    "            r = rewards[timestep]\n",
    "            a = actions[timestep]\n",
    "            G = discount_factor * G + r\n",
    "            \n",
    "            # add W to the sum of weights C\n",
    "            C[s][a] += W\n",
    "            \n",
    "            # update Q function incrementally\n",
    "            Q[s][a] += W/C[s][a] * (G - Q[s][a])\n",
    "            \n",
    "            # update the weight\n",
    "            W *= (target_policy.get_probs(s, a)) / (behavior_policy.get_probs(s, a))\n",
    "            \n",
    "            # break out of the loop if the weights are 0\n",
    "            if W == 0:\n",
    "                break  \n",
    "                \n",
    "    return Q, episode_lens"
   ]
  },
  {
   "cell_type": "markdown",
   "metadata": {},
   "source": [
    "## Performance\n",
    "Plot the episode length over training"
   ]
  },
  {
   "cell_type": "code",
   "execution_count": 50,
   "metadata": {},
   "outputs": [
    {
     "name": "stderr",
     "output_type": "stream",
     "text": [
      "\r",
      "  0%|          | 0/1000 [00:00<?, ?it/s]"
     ]
    },
    {
     "name": "stdout",
     "output_type": "stream",
     "text": [
      "Updating Q using ordinary importance sampling (1000 episodes)\n"
     ]
    },
    {
     "name": "stderr",
     "output_type": "stream",
     "text": [
      "100%|██████████| 1000/1000 [00:03<00:00, 292.21it/s]\n",
      "  0%|          | 0/1000 [00:00<?, ?it/s]"
     ]
    },
    {
     "name": "stdout",
     "output_type": "stream",
     "text": [
      "Updating Q using weighted importance sampling (1000 episodes)\n"
     ]
    },
    {
     "name": "stderr",
     "output_type": "stream",
     "text": [
      "100%|██████████| 1000/1000 [00:03<00:00, 331.54it/s]\n"
     ]
    }
   ],
   "source": [
    "# Reproducible\n",
    "seed = 10\n",
    "\n",
    "# set other parameters\n",
    "epsilon = 0.1\n",
    "discount_factor = 1.0\n",
    "num_episodes = 1000\n",
    "Q = np.ones((env.nS, env.nA)) * -100\n",
    "behavioral_policy = EpsilonGreedyPolicy(Q, epsilon=epsilon)\n",
    "target_policy = GreedyPolicy(Q)\n",
    "\n",
    "# the episode length is equal to the negative return. \n",
    "print(f\"Updating Q using ordinary importance sampling ({num_episodes} episodes)\")\n",
    "Q_mc_ordinary, mc_ordinary_epslengths = mc_ordinary_importance_sampling(env, behavioral_policy, target_policy, \n",
    "                                                                        num_episodes, discount_factor, epsilon=epsilon)\n",
    "print(f\"Updating Q using weighted importance sampling ({num_episodes} episodes)\")\n",
    "Q_mc_weighted, mc_weighted_epslengths = mc_weighted_importance_sampling(env, behavioral_policy, target_policy,\n",
    "                                                                        num_episodes, discount_factor, epsilon=epsilon)"
   ]
  },
  {
   "cell_type": "code",
   "execution_count": null,
   "metadata": {},
   "outputs": [],
   "source": []
  },
  {
   "cell_type": "code",
   "execution_count": 51,
   "metadata": {},
   "outputs": [
    {
     "name": "stdout",
     "output_type": "stream",
     "text": [
      "resulting episode length ordinary: 16\n",
      "resulting episode length weighted: 17\n"
     ]
    }
   ],
   "source": [
    "# check how long an episode takes under the found Q function\n",
    "greedy_ordinary = GreedyPolicy(Q_mc_ordinary)\n",
    "greedy_weighted = GreedyPolicy(Q_mc_weighted)\n",
    "\n",
    "ordinary_episode = sample_episode(env, greedy_ordinary)\n",
    "weighted_episode = sample_episode(env, greedy_weighted)\n",
    "\n",
    "print(f\"resulting episode length ordinary: {len(ordinary_episode[0])}\")\n",
    "print(f\"resulting episode length weighted: {len(weighted_episode[0])}\")"
   ]
  },
  {
   "cell_type": "markdown",
   "metadata": {},
   "source": [
    "### Plotting episode lengths during training"
   ]
  },
  {
   "cell_type": "code",
   "execution_count": 52,
   "metadata": {},
   "outputs": [
    {
     "name": "stdout",
     "output_type": "stream",
     "text": [
      "[6870, 1863, 128, 93, 28, 78, 20, 84, 60, 28, 23, 23, 20, 27, 24, 31, 27, 35, 20, 23, 18, 30, 28, 30, 22, 24, 126, 20, 39, 21, 25, 33, 22, 24, 41, 22, 19, 32, 19, 19, 27, 20, 98, 25, 23, 41, 29, 41, 58, 24, 91, 21, 26, 47, 50, 51, 19, 28, 38, 18, 27, 27, 46, 21, 24, 37, 19, 17, 17, 20, 20, 24, 18, 17, 17, 19, 23, 17, 19, 18, 18, 17, 20, 20, 17, 20, 20, 25, 18, 17, 17, 23, 17, 18, 19, 18, 18, 30, 19, 25, 17, 18, 19, 18, 27, 21, 27, 25, 18, 20, 19, 29, 18, 17, 17, 20, 18, 17, 18, 17, 18, 19, 17, 19, 20, 21, 18, 17, 21, 17, 17, 19, 17, 16, 17, 18, 17, 21, 18, 18, 18, 17, 22, 34, 24, 16, 18, 16, 18, 16, 18, 21, 18, 17, 19, 17, 16, 23, 18, 16, 17, 19, 19, 18, 19, 16, 16, 16, 22, 21, 21, 21, 17, 22, 17, 16, 20, 18, 22, 16, 21, 16, 28, 19, 16, 19, 16, 17, 19, 16, 16, 22, 19, 17, 16, 17, 20, 19, 17, 20, 20, 21, 16, 18, 16, 23, 18, 20, 16, 17, 18, 17, 16, 16, 16, 16, 21, 17, 19, 16, 16, 16, 22, 16, 21, 16, 19, 16, 16, 19, 20, 16, 16, 20, 19, 29, 20, 22, 18, 16, 16, 16, 16, 16, 17, 20, 16, 17, 17, 18, 16, 21, 18, 19, 17, 18, 29, 20, 19, 16, 19, 16, 20, 19, 19, 27, 16, 17, 21, 16, 16, 21, 21, 16, 16, 17, 22, 18, 23, 25, 18, 24, 21, 16, 19, 16, 23, 20, 16, 18, 18, 16, 19, 17, 18, 16, 18, 20, 16, 20, 21, 16, 18, 16, 17, 20, 16, 18, 16, 20, 22, 16, 16, 22, 17, 23, 17, 16, 17, 24, 17, 16, 20, 17, 18, 17, 16, 19, 16, 16, 19, 22, 16, 17, 16, 17, 16, 19, 21, 19, 26, 17, 22, 16, 16, 19, 17, 17, 17, 20, 22, 19, 16, 19, 17, 17, 18, 17, 20, 16, 18, 16, 19, 17, 16, 16, 18, 16, 16, 16, 16, 23, 20, 16, 17, 18, 17, 22, 16, 18, 18, 18, 17, 20, 18, 16, 19, 16, 19, 23, 16, 20, 16, 22, 18, 16, 19, 17, 18, 18, 16, 18, 16, 18, 18, 16, 19, 19, 17, 20, 17, 17, 17, 18, 16, 18, 21, 19, 18, 17, 19, 19, 16, 17, 19, 18, 18, 21, 18, 18, 18, 20, 16, 16, 16, 21, 32, 16, 17, 17, 18, 16, 17, 17, 17, 16, 18, 17, 19, 16, 16, 16, 19, 19, 19, 16, 17, 16, 20, 20, 18, 16, 18, 16, 19, 19, 16, 18, 21, 21, 19, 19, 17, 20, 23, 22, 20, 20, 18, 19, 17, 19, 16, 20, 18, 19, 16, 19, 16, 16, 18, 16, 20, 25, 16, 19, 20, 16, 18, 17, 21, 20, 19, 21, 16, 17, 18, 17, 20, 16, 18, 20, 21, 16, 18, 18, 22, 21, 25, 21, 17, 21, 16, 18, 29, 16, 20, 16, 23, 17, 18, 22, 17, 16, 16, 18, 18, 24, 19, 22, 21, 18, 16, 20, 17, 22, 21, 18, 16, 17, 20, 18, 21, 16, 20, 16, 18, 17, 16, 17, 18, 16, 16, 20, 16, 24, 24, 18, 23, 18, 16, 16, 16, 19, 19, 16, 17, 21, 21, 18, 20, 17, 18, 24, 20, 18, 17, 20, 16, 18, 22, 18, 16, 16, 16, 26, 16, 18, 16, 20, 18, 16, 18, 16, 16, 16, 18, 19, 19, 18, 25, 16, 18, 18, 16, 16, 16, 17, 16, 16, 16, 19, 17, 16, 19, 16, 21, 21, 27, 21, 20, 18, 23, 18, 26, 19, 16, 19, 18, 18, 16, 20, 21, 16, 17, 16, 16, 18, 19, 18, 17, 19, 17, 18, 18, 23, 17, 17, 18, 16, 29, 16, 19, 21, 17, 16, 19, 18, 20, 27, 18, 16, 22, 18, 16, 16, 16, 16, 17, 16, 16, 19, 22, 21, 16, 16, 18, 21, 19, 16, 16, 16, 19, 16, 17, 20, 17, 16, 24, 16, 17, 22, 18, 21, 17, 21, 16, 18, 18, 20, 19, 16, 20, 22, 16, 26, 16, 16, 17, 16, 21, 17, 16, 22, 19, 18, 16, 17, 17, 31, 16, 17, 22, 20, 19, 16, 22, 18, 19, 19, 16, 19, 16, 18, 16, 16, 19, 19, 16, 16, 16, 20, 16, 16, 17, 17, 20, 25, 16, 21, 28, 16, 17, 23, 18, 19, 19, 19, 16, 17, 18, 18, 17, 16, 27, 17, 16, 17, 16, 18, 16, 21, 18, 21, 18, 27, 19, 17, 16, 18, 16, 22, 18, 16, 17, 18, 16, 16, 16, 17, 17, 26, 16, 17, 17, 21, 22, 17, 16, 16, 21, 19, 16, 17, 19, 17, 16, 16, 18, 17, 18, 19, 16, 16, 20, 16, 18, 16, 16, 16, 22, 18, 16, 17, 19, 16, 18, 20, 33, 23, 16, 19, 17, 16, 18, 23, 19, 17, 16, 16, 20, 20, 19, 23, 16, 19, 20, 16, 19, 16, 17, 24, 18, 19, 20, 19, 20, 16, 19, 16, 16, 19, 16, 18, 17, 19, 18, 20, 19, 16, 17, 16, 16, 18, 16, 16, 18, 18, 16, 19, 16, 16, 26, 16, 19, 19, 21, 18, 16, 16, 21, 19, 18, 16, 20, 19, 21, 19, 18, 17, 26, 21, 29, 20, 16, 16, 18, 18, 18, 28, 17, 22, 17, 19, 16, 17, 18, 20, 18, 16, 18, 16, 16, 16, 16, 29, 18, 16, 16, 19, 22, 21, 19, 16, 19, 17, 19, 24, 19, 18, 18, 16, 19, 26, 16, 16, 18, 18, 16, 17, 18, 16, 20, 32, 16, 18, 16, 20, 21, 20, 16, 22, 16, 16, 18, 18, 17, 16, 16, 22, 19, 17, 26, 19, 35, 28, 19, 19, 17, 16, 23, 16, 18, 20, 17, 16, 16, 17, 17, 16]\n",
      "[6870, 1863, 128, 93, 28, 78, 20, 27, 31, 30, 33, 43, 26, 24, 41, 21, 19, 26, 23, 20, 21, 20, 21, 17, 25, 19, 19, 17, 19, 22, 17, 23, 19, 18, 17, 19, 17, 17, 18, 18, 17, 17, 21, 19, 23, 23, 17, 18, 32, 24, 19, 18, 22, 20, 19, 20, 17, 18, 17, 21, 22, 20, 32, 17, 27, 21, 17, 29, 23, 17, 18, 20, 33, 19, 18, 21, 22, 17, 17, 26, 17, 17, 24, 17, 17, 25, 25, 27, 17, 19, 24, 22, 18, 17, 21, 19, 18, 21, 17, 29, 17, 20, 26, 17, 18, 20, 18, 19, 20, 21, 21, 17, 21, 17, 20, 20, 17, 19, 17, 20, 21, 23, 17, 18, 21, 17, 26, 19, 21, 23, 22, 18, 17, 17, 23, 17, 18, 22, 18, 17, 26, 19, 27, 17, 18, 19, 18, 27, 23, 25, 25, 18, 20, 19, 28, 19, 17, 17, 20, 18, 17, 18, 17, 18, 19, 17, 20, 20, 21, 18, 17, 18, 20, 19, 23, 18, 19, 18, 20, 21, 19, 19, 19, 17, 19, 37, 31, 18, 17, 17, 19, 17, 18, 20, 19, 17, 23, 23, 20, 23, 17, 19, 24, 19, 22, 17, 17, 18, 25, 19, 18, 19, 17, 21, 18, 17, 20, 22, 20, 20, 19, 17, 20, 22, 21, 17, 19, 19, 17, 17, 18, 22, 19, 17, 20, 25, 20, 22, 23, 20, 17, 22, 19, 24, 19, 19, 17, 18, 17, 17, 22, 17, 19, 20, 17, 23, 17, 17, 17, 20, 17, 21, 17, 21, 17, 31, 27, 17, 19, 19, 17, 30, 32, 18, 17, 17, 17, 17, 17, 21, 17, 18, 18, 17, 17, 18, 22, 20, 18, 18, 18, 25, 19, 17, 20, 17, 18, 18, 21, 25, 20, 19, 19, 17, 17, 26, 23, 17, 20, 23, 19, 17, 31, 22, 27, 19, 19, 19, 17, 23, 20, 17, 17, 18, 17, 18, 17, 19, 17, 19, 21, 22, 27, 17, 19, 17, 19, 18, 17, 18, 17, 22, 22, 18, 28, 21, 21, 18, 17, 18, 22, 18, 17, 25, 17, 18, 19, 25, 17, 17, 20, 21, 17, 17, 18, 20, 20, 20, 22, 22, 19, 18, 20, 17, 17, 21, 22, 18, 21, 23, 19, 19, 17, 17, 17, 23, 21, 18, 24, 20, 21, 19, 17, 19, 17, 18, 17, 18, 28, 17, 18, 19, 20, 28, 17, 19, 19, 19, 17, 19, 18, 17, 19, 17, 18, 20, 17, 22, 17, 21, 18, 19, 19, 22, 17, 17, 19, 17, 23, 21, 17, 21, 19, 20, 19, 17, 17, 19, 20, 19, 24, 21, 18, 17, 19, 23, 17, 21, 25, 21, 27, 17, 17, 23, 17, 18, 20, 23, 22, 20, 17, 20, 18, 17, 18, 18, 24, 18, 19, 17, 21, 19, 17, 19, 18, 20, 17, 17, 17, 20, 27, 17, 24, 17, 23, 17, 17, 19, 30, 19, 23, 18, 18, 24, 22, 17, 21, 23, 22, 17, 18, 23, 18, 18, 19, 23, 17, 19, 20, 17, 22, 20, 17, 24, 22, 17, 22, 19, 25, 20, 19, 17, 18, 23, 20, 19, 19, 18, 27, 17, 19, 22, 22, 23, 27, 20, 21, 19, 20, 20, 20, 17, 18, 17, 22, 18, 17, 25, 19, 17, 19, 17, 17, 28, 17, 22, 21, 18, 21, 18, 35, 22, 17, 18, 19, 22, 22, 17, 21, 24, 19, 18, 17, 19, 18, 17, 22, 20, 19, 23, 17, 25, 19, 17, 17, 17, 20, 18, 17, 18, 21, 21, 25, 17, 18, 17, 19, 19, 17, 19, 22, 17, 17, 18, 19, 18, 20, 21, 20, 19, 17, 20, 24, 17, 18, 23, 17, 19, 20, 22, 19, 25, 17, 18, 19, 17, 17, 17, 21, 18, 17, 19, 20, 17, 20, 17, 22, 22, 24, 22, 20, 22, 18, 20, 26, 19, 17, 22, 22, 17, 20, 20, 19, 17, 19, 17, 19, 21, 18, 18, 21, 18, 28, 24, 18, 18, 19, 17, 23, 17, 23, 20, 19, 17, 23, 25, 20, 28, 17, 25, 20, 17, 17, 18, 19, 20, 17, 20, 24, 23, 17, 26, 25, 20, 17, 17, 17, 19, 18, 17, 17, 19, 17, 20, 17, 18, 23, 17, 21, 17, 21, 17, 19, 17, 29, 17, 24, 23, 17, 24, 17, 17, 18, 17, 22, 17, 18, 19, 20, 17, 17, 17, 19, 24, 17, 18, 23, 21, 20, 18, 21, 22, 24, 17, 18, 17, 17, 19, 17, 19, 19, 17, 17, 17, 20, 19, 17, 18, 23, 27, 19, 24, 18, 19, 17, 29, 20, 18, 22, 21, 17, 19, 21, 17, 17, 19, 26, 18, 17, 17, 23, 20, 26, 17, 21, 21, 29, 22, 17, 18, 17, 22, 17, 17, 18, 19, 18, 18, 19, 23, 34, 19, 18, 17, 18, 20, 19, 18, 32, 21, 17, 18, 17, 17, 18, 18, 19, 19, 17, 18, 19, 21, 17, 19, 17, 17, 17, 17, 20, 17, 20, 18, 17, 25, 18, 24, 27, 17, 19, 18, 17, 21, 19, 17, 19, 20, 20, 17, 19, 24, 17, 17, 22, 18, 25, 17, 17, 21, 24, 24, 20, 18, 17, 19, 20, 17, 19, 17, 21, 18, 18, 20, 20, 18, 17, 17, 17, 18, 17, 18, 18, 17, 18, 17, 19, 19, 32, 17, 20, 19, 30, 17, 18, 24, 20, 19, 17, 20, 36, 20, 19, 18, 24, 22, 29, 21, 18, 17, 21, 17, 19, 30, 19, 25, 20, 17, 18, 19, 19, 19, 17, 19, 20, 17, 17, 20, 20, 19, 17, 17, 30, 22, 23, 17, 28, 19, 28, 20, 19, 21, 22, 20, 19, 17, 22, 17, 17, 21, 19, 17, 27, 26, 17, 19, 17, 19, 18, 22, 18, 20, 17, 17, 18, 18, 17, 18, 17, 24, 19, 19, 19, 19, 24, 17, 21, 19, 20, 20, 21, 20, 17, 25, 20, 17, 17, 18, 19, 17, 17, 19, 20, 24, 17, 19, 26, 27, 20, 17, 26, 18]\n"
     ]
    }
   ],
   "source": [
    "print(mc_ordinary_epslengths)\n",
    "\n",
    "print(mc_weighted_epslengths)"
   ]
  },
  {
   "cell_type": "code",
   "execution_count": 49,
   "metadata": {},
   "outputs": [
    {
     "data": {
      "image/png": "[encoded data removed]",
      "text/plain": [
       "<Figure size 432x288 with 1 Axes>"
      ]
     },
     "metadata": {
      "needs_background": "light"
     },
     "output_type": "display_data"
    }
   ],
   "source": [
    "def running_mean(vals, n=1):\n",
    "    assert n < len(vals)\n",
    "    cumvals = np.array(vals).cumsum()\n",
    "    return (cumvals[n:] - cumvals[:-n]) / n \n",
    "\n",
    "# set smoothing factor\n",
    "n = 3\n",
    "\n",
    "plt.plot(running_mean(mc_ordinary_epslengths, n), label=\"ordinary\")\n",
    "plt.plot(running_mean(mc_weighted_epslengths, n), label=\"weighted\")\n",
    "# plt.hlines(num_episodes)\n",
    "plt.title('Episode lengths MC')\n",
    "# plt.yscale(\"log\")\n",
    "plt.legend()\n",
    "# plt.gca().set_ylim([0, 100])\n",
    "plt.show()"
   ]
  },
  {
   "cell_type": "markdown",
   "metadata": {},
   "source": [
    "## Temporal Difference\n",
    "\n",
    "### TO-DO: TD Ordinary Importance Sampling (make it work for gridworld)\n",
    "Copied from TD_lab. Currently on-policy, needs to be off-policy.\n",
    "\n",
    "Confused: do we need value functions instead of q-values? Do we even use importance weights in off-policy TD? Are there more off-policy TD methods besides SARSA?"
   ]
  },
  {
   "cell_type": "code",
   "execution_count": null,
   "metadata": {},
   "outputs": [],
   "source": [
    "def sarsa(env, policy, Q, num_episodes, discount_factor=1.0, alpha=0.5):\n",
    "    \"\"\"\n",
    "    SARSA algorithm: On-policy TD control. Finds the optimal epsilon-greedy policy.\n",
    "    \n",
    "    Args:\n",
    "        env: OpenAI environment.\n",
    "        policy: A policy which allows us to sample actions with its sample_action method.\n",
    "        Q: Q value function, numpy array Q[s,a] -> state-action value.\n",
    "        num_episodes: Number of episodes to run for.\n",
    "        discount_factor: Gamma discount factor.\n",
    "        alpha: TD learning rate.\n",
    "        \n",
    "    Returns:\n",
    "        A tuple (Q, stats).\n",
    "        Q is a numpy array Q[s,a] -> state-action value.\n",
    "        stats is a list of tuples giving the episode lengths and returns.\n",
    "    \"\"\"\n",
    "    \n",
    "    # Keeps track of useful statistics\n",
    "    stats = []\n",
    "    \n",
    "    for i_episode in tqdm(range(num_episodes)):\n",
    "        i = 0\n",
    "        R = 0\n",
    "        \n",
    "        # initial state is 3,0 in the grid (according to source code)\n",
    "        s = env.reset()\n",
    "        a = policy.sample_action(s)\n",
    "        final_state_reached = False\n",
    "        \n",
    "        while True:\n",
    "            # new actions\n",
    "            s_prime, r, final_state, _ = env.step(a)\n",
    "            \n",
    "            # keep track of stats\n",
    "            R += r\n",
    "            i += 1    \n",
    "            \n",
    "            # sample action at state s_prime\n",
    "            a_prime = policy.sample_action(s_prime)\n",
    "\n",
    "            # update Q \n",
    "            Q[s][a] += alpha * (r + discount_factor * Q[s_prime][a_prime] - Q[s][a])    \n",
    "    \n",
    "            # update policy\n",
    "            policy.Q = Q\n",
    "            \n",
    "            # if final state, terminate loop\n",
    "            if final_state:\n",
    "                break\n",
    "        \n",
    "            # update current s and a for next iteration\n",
    "            s = s_prime\n",
    "            a = a_prime\n",
    "            \n",
    "        stats.append((i, R))\n",
    "        \n",
    "    episode_lengths, episode_returns = zip(*stats)\n",
    "    return Q, (episode_lengths, episode_returns)"
   ]
  },
  {
   "cell_type": "markdown",
   "metadata": {},
   "source": [
    "### TO-DO: TD Weighted Importance Sampling (same as above but weighted)"
   ]
  },
  {
   "cell_type": "code",
   "execution_count": null,
   "metadata": {},
   "outputs": [],
   "source": [
    "## TD weighted importance sampling"
   ]
  },
  {
   "cell_type": "markdown",
   "metadata": {},
   "source": [
    "## Experiments"
   ]
  },
  {
   "cell_type": "code",
   "execution_count": null,
   "metadata": {},
   "outputs": [],
   "source": []
  }
 ],
 "metadata": {
  "kernelspec": {
   "display_name": "Python 3",
   "language": "python",
   "name": "python3"
  },
  "language_info": {
   "codemirror_mode": {
    "name": "ipython",
    "version": 3
   },
   "file_extension": ".py",
   "mimetype": "text/x-python",
   "name": "python",
   "nbconvert_exporter": "python",
   "pygments_lexer": "ipython3",
   "version": "3.7.3"
  }
 },
 "nbformat": 4,
 "nbformat_minor": 4
}
