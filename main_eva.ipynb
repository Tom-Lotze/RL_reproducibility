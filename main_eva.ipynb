{
 "cells": [
  {
   "cell_type": "markdown",
   "metadata": {},
   "source": [
    "# Main functions used in experiments"
   ]
  },
  {
   "cell_type": "code",
   "execution_count": 1,
   "metadata": {},
   "outputs": [],
   "source": [
    "import numpy as np\n",
    "from collections import defaultdict\n",
    "from tqdm import tqdm as _tqdm\n",
    "\n",
    "def tqdm(*args, **kwargs):\n",
    "    return _tqdm(*args, **kwargs, mininterval=1)  # Safety, do not overflow buffer\n",
    "%matplotlib inline\n",
    "import matplotlib.pyplot as plt\n",
    "import sys\n",
    "\n",
    "import random\n",
    "import time\n",
    "assert sys.version_info[:3] >= (3, 6, 0), \"Make sure you have Python 3.6 installed!\""
   ]
  },
  {
   "cell_type": "markdown",
   "metadata": {},
   "source": [
    "## Environment: Windy gridworld\n",
    "Gives a reward of -1 for each step taken, while the final state is not reached"
   ]
  },
  {
   "cell_type": "code",
   "execution_count": 2,
   "metadata": {},
   "outputs": [
    {
     "name": "stderr",
     "output_type": "stream",
     "text": [
      "/Applications/anaconda3/envs/rl2020/lib/python3.7/site-packages/gym/envs/registration.py:14: PkgResourcesDeprecationWarning: Parameters to load are deprecated.  Call .resolve and .require separately.\n",
      "  result = entry_point.load(False)\n"
     ]
    }
   ],
   "source": [
    "# from windy_gridworld import WindyGridworldEnv\n",
    "# env = WindyGridworldEnv()\n",
    "# env??\n",
    "\n",
    "import gym\n",
    "env = gym.envs.make(\"FrozenLake-v0\")\n",
    "env.env.__init__(is_slippery=False)"
   ]
  },
  {
   "cell_type": "markdown",
   "metadata": {},
   "source": [
    "## Policy\n",
    "\n",
    "### Target policy (choose greedy vs non-greedy)\n",
    "Greedy policy "
   ]
  },
  {
   "cell_type": "code",
   "execution_count": 3,
   "metadata": {},
   "outputs": [],
   "source": [
    "class GreedyPolicy(object):\n",
    "    \"\"\"\n",
    "    A simple epsilon greedy policy.\n",
    "    \"\"\"\n",
    "    def __init__(self, Q):\n",
    "        self.Q = Q\n",
    "    \n",
    "    def get_probs(self, state, action):\n",
    "        \"\"\"\n",
    "        Takes a state and an action and returns the probability of taking that action from \n",
    "        that state, under Q and a greedy policy\n",
    "        \"\"\"   \n",
    "        # for state and action only:\n",
    "        action_probs = self.Q[state]\n",
    "        max_indices = np.argwhere(action_probs == np.amax(action_probs))\n",
    "        \n",
    "        if action in max_indices:\n",
    "            prob = 1/len(max_indices)\n",
    "        else:\n",
    "            prob = 0\n",
    "        \n",
    "        return prob\n",
    "        \n",
    "    def sample_action(self, obs):\n",
    "        \"\"\"\n",
    "        This method takes a state as input and returns an action sampled from this policy.  \n",
    "\n",
    "        Args:\n",
    "            obs: current state\n",
    "\n",
    "        Returns:\n",
    "            An action (int).\n",
    "        \"\"\"\n",
    "\n",
    "        best_actions = [i for i, j in enumerate([self.Q[obs][i] for i in range(4)]) \n",
    "                   if j == max([self.Q[obs][i] for i in range(4)])] \n",
    "\n",
    "        best_action = np.random.choice(best_actions)\n",
    "        \n",
    "        return best_action"
   ]
  },
  {
   "cell_type": "code",
   "execution_count": 4,
   "metadata": {},
   "outputs": [],
   "source": [
    "class EpsilonGreedyPolicy(object):\n",
    "    \"\"\"\n",
    "    A simple epsilon greedy policy.\n",
    "    \"\"\"\n",
    "    def __init__(self, Q, epsilon):\n",
    "        self.Q = Q\n",
    "        self.epsilon = epsilon\n",
    "        \n",
    "    def get_probs(self, state, action):\n",
    "        # for one state and action \n",
    "        action_probs = self.Q[state]\n",
    "        max_indices = np.argwhere(action_probs == np.amax(action_probs))\n",
    "        # all probs are equal, give all equal probabilities\n",
    "        if len(max_indices) == len(action_probs):\n",
    "            return 1/len(max_indices)\n",
    "            \n",
    "        if action in max_indices:\n",
    "            prob = (1-self.epsilon)/len(max_indices)\n",
    "        else:\n",
    "            prob = epsilon / (len(action_probs) - len(max_indices))\n",
    "        \n",
    "        return prob\n",
    "        \n",
    "    def sample_action(self, obs):\n",
    "        \"\"\"\n",
    "        This method takes a state as input and returns an action sampled from this policy.  \n",
    "\n",
    "        Args:\n",
    "            obs: current state\n",
    "\n",
    "        Returns:\n",
    "            An action (int).\n",
    "        \"\"\"\n",
    "#         if (obs == 13): \n",
    "#             print(self.Q[obs])\n",
    "        p = np.random.uniform()\n",
    "        if p > self.epsilon:\n",
    "            # choose one of the best actions\n",
    "            action = np.random.choice([i for i, j in enumerate(self.Q[obs]) if j == np.max(self.Q[obs])])\n",
    "        else:\n",
    "            # return a random action\n",
    "            action = np.random.randint(0,4)\n",
    "                \n",
    "        return action\n"
   ]
  },
  {
   "cell_type": "markdown",
   "metadata": {},
   "source": [
    "# Monte Carlo"
   ]
  },
  {
   "cell_type": "code",
   "execution_count": 5,
   "metadata": {},
   "outputs": [],
   "source": [
    "def sample_episode(env, policy):\n",
    "    \"\"\"\n",
    "    A sampling routine. Given environment and a policy samples one episode and returns states, actions, rewards\n",
    "    and dones from environment's step function and policy's sample_action function as lists.\n",
    "\n",
    "    Args:\n",
    "        env: OpenAI gym environment.\n",
    "        policy: A policy which allows us to sample actions with its sample_action method.\n",
    "\n",
    "    Returns:\n",
    "        Tuple of lists (states, actions, rewards, dones). All lists should have same length. \n",
    "        state after the termination is not included in the list of states.\n",
    "    \"\"\"\n",
    "    # initialize\n",
    "    states = []\n",
    "    actions = []\n",
    "    rewards = []\n",
    "    dones = []\n",
    "    \n",
    "    # get a starting state\n",
    "    s = env.reset()\n",
    "    d = False\n",
    "    \n",
    "    # keep looping until done, don's save the terminal state\n",
    "    while not d:\n",
    "        states.append(s)\n",
    "        a = policy.sample_action(s)\n",
    "        s, r, d, _ = env.step(a)\n",
    "        \n",
    "        # save                \n",
    "        actions.append(a)\n",
    "        rewards.append(r)\n",
    "        dones.append(d)\n",
    "        \n",
    "\n",
    "    return states, actions, rewards, dones"
   ]
  },
  {
   "cell_type": "code",
   "execution_count": 6,
   "metadata": {},
   "outputs": [
    {
     "name": "stdout",
     "output_type": "stream",
     "text": [
      "length of episode 0: 6\n"
     ]
    }
   ],
   "source": [
    "# check the length of episodes that are generated for eps greedy policy\n",
    "Q = np.zeros((env.env.nS, env.env.nA))\n",
    "bp = EpsilonGreedyPolicy(Q, epsilon=0.1)\n",
    "\n",
    "for episode in range(1):\n",
    "    trajectory_data = sample_episode(env, bp)\n",
    "    print(f\"length of episode {episode}: {len(trajectory_data[0])}\")"
   ]
  },
  {
   "cell_type": "markdown",
   "metadata": {},
   "source": [
    "## Importance Sampling\n"
   ]
  },
  {
   "cell_type": "code",
   "execution_count": 11,
   "metadata": {},
   "outputs": [],
   "source": [
    "def mc_importance_sampling(env, behavior_policy, target_policy, num_episodes, weighted=False, discount_factor=1.0,\n",
    "                           sampling_function=sample_episode, epsilon=0.05, seed=42, \n",
    "                           analyse_states=[(0,2), (0,1), (14,2), (2,1)]):\n",
    "    \"\"\"\n",
    "    Monte Carlo prediction algorithm. Calculates the Q function\n",
    "    for a given target policy using behavior policy and ordinary importance sampling.\n",
    "    \n",
    "    Args:\n",
    "        env: OpenAI gym environment.\n",
    "        behavior_policy: A policy used to collect the data.\n",
    "        target_policy: A policy which value function we want to estimate.\n",
    "        num_episodes: Number of episodes to sample.\n",
    "        weighted: Boolean flag to use weighted or ordinary importance sampling.\n",
    "        discount_factor: Gamma discount factor.\n",
    "        sampling_function: Function that generates data from one episode.\n",
    "    \n",
    "    Returns:\n",
    "        A dictionary that maps from (state, action) -> value.\n",
    "    \"\"\"\n",
    "\n",
    "    # set the current Q to a large negative value\n",
    "    Q = np.zeros((env.env.nS, env.env.nA))\n",
    "    if weighted:\n",
    "        C = np.zeros((env.env.nS, env.env.nA))\n",
    "    else:\n",
    "        returns_count = defaultdict(lambda: defaultdict(float))\n",
    "    \n",
    "    episode_lens = []\n",
    "    \n",
    "    # set seed\n",
    "    np.random.seed(seed)\n",
    "    \n",
    "    analysis_values = dict((k,[]) for k in analyse_states)\n",
    "    \n",
    "    # sample episodes\n",
    "    for i in tqdm(range(num_episodes), position=0):\n",
    "        # update behavioral and target policy\n",
    "        behavior_policy.Q = Q\n",
    "        target_policy.Q = Q        \n",
    "    \n",
    "        # sample episode with new behavioural function\n",
    "        states, actions, rewards, dones = sampling_function(env, behavior_policy)\n",
    "        \n",
    "        # save the episode length\n",
    "        episode_lens.append(len(states)) \n",
    "\n",
    "        G = 0        \n",
    "        W = 1\n",
    "        \n",
    "        # loop backwards over the trajectory\n",
    "        for i, timestep in enumerate(range(len(states)-1, -1, -1)):\n",
    "            s = states[timestep]\n",
    "            r = rewards[timestep]\n",
    "            a = actions[timestep]\n",
    "            G = discount_factor * G + r\n",
    "            \n",
    "            if weighted:\n",
    "                # add W to the sum of weights C\n",
    "                C[s][a] += W\n",
    "                Q[s][a] += W/C[s][a] * (G - Q[s][a])\n",
    "            else:\n",
    "                returns_count[s][a] += 1 \n",
    "                # use every visit incremental method\n",
    "                Q[s][a] += 1/returns_count[s][a] * W * (G - Q[s][a])\n",
    "\n",
    "            W *= (target_policy.get_probs(s, a)) / (behavior_policy.get_probs(s, a))        \n",
    "\n",
    "            if W == 0:\n",
    "                break\n",
    "\n",
    "        # store state values to analyse\n",
    "        for (s,a) in analyse_states:\n",
    "#             print(Q[s][a])\n",
    "            analysis_values[(s,a)].append(Q[s][a])\n",
    "            \n",
    "    return Q, episode_lens, analysis_values"
   ]
  },
  {
   "cell_type": "markdown",
   "metadata": {},
   "source": [
    "## Performance\n"
   ]
  },
  {
   "cell_type": "code",
   "execution_count": 12,
   "metadata": {},
   "outputs": [
    {
     "name": "stderr",
     "output_type": "stream",
     "text": [
      "  0%|          | 0/5000 [00:00<?, ?it/s]"
     ]
    },
    {
     "name": "stdout",
     "output_type": "stream",
     "text": [
      "Updating Q using ordinary importance sampling (5000 episodes)\n"
     ]
    },
    {
     "name": "stderr",
     "output_type": "stream",
     "text": [
      "100%|██████████| 5000/5000 [00:09<00:00, 548.78it/s]\n",
      "  0%|          | 0/5000 [00:00<?, ?it/s]"
     ]
    },
    {
     "name": "stdout",
     "output_type": "stream",
     "text": [
      "Updating Q using weighted importance sampling (5000 episodes)\n"
     ]
    },
    {
     "name": "stderr",
     "output_type": "stream",
     "text": [
      "100%|██████████| 5000/5000 [00:05<00:00, 842.92it/s]\n"
     ]
    }
   ],
   "source": [
    "# Reproducible\n",
    "seed = 42\n",
    "\n",
    "# set other parameters\n",
    "epsilon = 0.2\n",
    "gamma = 0.99\n",
    "num_episodes = 5000\n",
    "Q = np.ones((env.env.nS, env.env.nA)) * 0\n",
    "behavioral_policy = EpsilonGreedyPolicy(Q, epsilon=epsilon)\n",
    "target_policy = GreedyPolicy(Q)\n",
    "\n",
    "# the episode length is equal to the negative return. \n",
    "print(f\"Updating Q using ordinary importance sampling ({num_episodes} episodes)\")\n",
    "Q_mc_ordinary, mc_ordinary_epslengths, mc_analysis_ordinary = mc_importance_sampling(env,\n",
    "                                                               behavioral_policy, target_policy, \n",
    "                                                               num_episodes, weighted=False,discount_factor=gamma, \n",
    "                                                               epsilon=epsilon, seed=seed)\n",
    "\n",
    "print(f\"Updating Q using weighted importance sampling ({num_episodes} episodes)\")\n",
    "Q_mc_weighted, mc_weighted_epslengths, mc_analysis_weighted = mc_importance_sampling(env,\n",
    "                                                               behavioral_policy, target_policy,\n",
    "                                                               num_episodes, weighted=True, discount_factor=gamma, \n",
    "                                                               epsilon=epsilon, seed=seed)\n"
   ]
  },
  {
   "cell_type": "code",
   "execution_count": 13,
   "metadata": {},
   "outputs": [
    {
     "name": "stdout",
     "output_type": "stream",
     "text": [
      "resulting episode length ordinary: 6\n",
      "resulting episode length weighted: 6\n"
     ]
    }
   ],
   "source": [
    "# check how long an episode takes under the found Q function\n",
    "greedy_ordinary = GreedyPolicy(Q_mc_ordinary)\n",
    "greedy_weighted = GreedyPolicy(Q_mc_weighted)\n",
    "\n",
    "ordinary_episode = sample_episode(env, greedy_ordinary)\n",
    "weighted_episode = sample_episode(env, greedy_weighted)\n",
    "\n",
    "print(f\"resulting episode length ordinary: {len(ordinary_episode[0])}\")\n",
    "print(f\"resulting episode length weighted: {len(weighted_episode[0])}\")"
   ]
  },
  {
   "cell_type": "markdown",
   "metadata": {},
   "source": [
    "### Plotting episode lengths during training"
   ]
  },
  {
   "cell_type": "code",
   "execution_count": 14,
   "metadata": {},
   "outputs": [
    {
     "data": {
      "image/png": "[encoded data removed]",
      "text/plain": [
       "<Figure size 432x288 with 1 Axes>"
      ]
     },
     "metadata": {
      "needs_background": "light"
     },
     "output_type": "display_data"
    }
   ],
   "source": [
    "def running_mean(vals, n=1):\n",
    "    assert n < len(vals)\n",
    "    cumvals = np.array(vals).cumsum()\n",
    "    return (cumvals[n:] - cumvals[:-n]) / n \n",
    "\n",
    "# set smoothing factor\n",
    "n = 5\n",
    "\n",
    "plt.plot(running_mean(mc_ordinary_epslengths, n), label=\"ordinary\")\n",
    "plt.plot(running_mean(mc_weighted_epslengths, n), label=\"weighted\")\n",
    "# plt.hlines(num_episodes)\n",
    "plt.title('Episode lengths MC')\n",
    "# plt.yscale(\"log\")\n",
    "plt.legend()\n",
    "# plt.gca().set_ylim([0, 100])\n",
    "plt.show()"
   ]
  },
  {
   "cell_type": "markdown",
   "metadata": {},
   "source": [
    "# Temporal Difference\n",
    "\n",
    "### TO-DO: TD Ordinary Importance Sampling (make it work for gridworld)\n",
    "Copied from TD_lab. Currently on-policy, needs to be off-policy.\n",
    "\n",
    "Confused: do we need value functions instead of q-values? Do we even use importance weights in off-policy TD? Are there more off-policy TD methods besides SARSA?"
   ]
  },
  {
   "cell_type": "code",
   "execution_count": 15,
   "metadata": {},
   "outputs": [],
   "source": [
    "import math\n",
    "def sarsa_importance_sampling(env, behavior_policy, target_policy, num_episodes, weighted=False, \n",
    "                                       discount_factor=1.0, alpha=0.5, seed=42,\n",
    "                                 analyse_states=[(0,2), (0,1), (14,2), (2,1)]):\n",
    "    \"\"\"\n",
    "    SARSA algorithm: Off-policy TD control. Calculates the value function\n",
    "    for a given target policy using behavior policy and ordinary importance sampling.\n",
    "    \n",
    "    Args:\n",
    "        env: OpenAI environment.\n",
    "        target policy: A policy which allows us to sample actions with its sample_action method.\n",
    "        behaviour policy: A policy which allows us to sample actions with its sample_action method.\n",
    "        Q: Q value function, numpy array Q[s,a] -> state-action value.\n",
    "        num_episodes: Number of episodes to run for.\n",
    "        discount_factor: Gamma discount factor.\n",
    "        alpha: TD learning rate.\n",
    "        \n",
    "    Returns:\n",
    "        A tuple (Q, stats).\n",
    "        Q is a numpy array Q[s,a] -> state-action value.\n",
    "        stats is a list of tuples giving the episode lengths and returns.\n",
    "    \"\"\"\n",
    "    np.random.seed(seed)\n",
    "    \n",
    "    # Keep track of useful statistics\n",
    "    stats = []\n",
    "    \n",
    "#     Q = np.ones((env.nS, env.nA)) * -100\n",
    "    Q = np.zeros((env.env.nS, env.env.nA))\n",
    "    C = np.zeros((env.env.nS, env.env.nA))\n",
    "    \n",
    "    analysis_values = dict((k,[]) for k in analyse_states)\n",
    "    \n",
    "    for i_episode in tqdm(range(num_episodes), position=0):\n",
    "        i = 0\n",
    "        R = 0\n",
    "        W = 1\n",
    "        \n",
    "        behavior_policy.Q = Q\n",
    "        target_policy.Q = Q\n",
    "            \n",
    "        s = env.reset()\n",
    "        a = behavior_policy.sample_action(s)\n",
    "        \n",
    "        while True:\n",
    "            # Take action\n",
    "            s_prime, r, final_state, _ = env.step(a)\n",
    "            \n",
    "            # Sample action at from next state\n",
    "            a_prime = behavior_policy.sample_action(s_prime)                        \n",
    "            \n",
    "            if W == 0:\n",
    "                break\n",
    "            \n",
    "            if weighted:\n",
    "                # Update weight and C\n",
    "                C[s][a] = W\n",
    "                # importance weight is 1 \n",
    "                Q[s][a] += W/C[s][a] * alpha * (r + discount_factor * Q[s_prime][a_prime] - Q[s][a])                \n",
    "            else:\n",
    "                Q[s][a] += W * alpha * (r + discount_factor * Q[s_prime][a_prime] - Q[s][a])                \n",
    "            \n",
    "            W = (target_policy.get_probs(s_prime,a_prime))/(behavior_policy.get_probs(s_prime,a_prime))\n",
    "    \n",
    "            behavior_policy.Q[s][a] = Q[s][a]\n",
    "            target_policy.Q[s][a] = Q[s][a]\n",
    "            \n",
    "            s = s_prime\n",
    "            a = a_prime\n",
    "            \n",
    "            R += r\n",
    "            i += 1 \n",
    "            \n",
    "            if final_state:\n",
    "                break\n",
    "            \n",
    "        stats.append((i, R))\n",
    "\n",
    "        # store state values to analyse\n",
    "        for (s,a) in analyse_states:\n",
    "#             print(Q[s][a])\n",
    "            analysis_values[(s,a)].append(Q[s][a])\n",
    "    \n",
    "    episode_lengths, episode_returns = zip(*stats)\n",
    "    \n",
    "    return Q, episode_lengths, analysis_values"
   ]
  },
  {
   "cell_type": "code",
   "execution_count": 16,
   "metadata": {},
   "outputs": [
    {
     "name": "stderr",
     "output_type": "stream",
     "text": [
      "  0%|          | 0/5000 [00:00<?, ?it/s]"
     ]
    },
    {
     "name": "stdout",
     "output_type": "stream",
     "text": [
      "Updating Q using ordinary importance sampling (5000 episodes)\n"
     ]
    },
    {
     "name": "stderr",
     "output_type": "stream",
     "text": [
      "100%|██████████| 5000/5000 [00:05<00:00, 889.29it/s]\n",
      "  0%|          | 0/5000 [00:00<?, ?it/s]"
     ]
    },
    {
     "name": "stdout",
     "output_type": "stream",
     "text": [
      "Updating Q using weighted importance sampling (5000 episodes)\n"
     ]
    },
    {
     "name": "stderr",
     "output_type": "stream",
     "text": [
      "100%|██████████| 5000/5000 [00:04<00:00, 1144.59it/s]\n"
     ]
    }
   ],
   "source": [
    "# Reproducible\n",
    "seed = 42\n",
    "\n",
    "# set other parameters\n",
    "epsilon = 0.2\n",
    "gamma = 0.99\n",
    "num_episodes = 5000\n",
    "Q = np.zeros((env.env.nS, env.env.nA))\n",
    "behavioral_policy = EpsilonGreedyPolicy(Q, epsilon=epsilon)\n",
    "target_policy = GreedyPolicy(Q)\n",
    "\n",
    "# the episode length is equal to the negative return. \n",
    "print(f\"Updating Q using ordinary importance sampling ({num_episodes} episodes)\")\n",
    "Q_sarsa_ordinary, sarsa_ordinary_epslengths, sarsa_analysis_ordinary = sarsa_importance_sampling(env, \n",
    "                                                               behavioral_policy, target_policy, \n",
    "                                                               num_episodes, weighted=False,\n",
    "                                                                         discount_factor=gamma, seed=seed)\n",
    "\n",
    "Q = np.zeros((env.env.nS, env.env.nA))\n",
    "behavioral_policy = EpsilonGreedyPolicy(Q, epsilon=epsilon)\n",
    "target_policy = GreedyPolicy(Q)\n",
    "\n",
    "\n",
    "print(f\"Updating Q using weighted importance sampling ({num_episodes} episodes)\")\n",
    "Q_sarsa_weighted, sarsa_weighted_epslengths, sarsa_analysis_weighted = sarsa_importance_sampling(env, \n",
    "                                                                        behavioral_policy, target_policy,\n",
    "                                                                        num_episodes, weighted=True,\n",
    "                                                                        discount_factor=gamma, seed=seed)\n"
   ]
  },
  {
   "cell_type": "code",
   "execution_count": 100,
   "metadata": {},
   "outputs": [],
   "source": [
    "def n_step_sarsa_importance_sampling(env, behavior_policy, target_policy, num_episodes, n=1, weighted=False, \n",
    "                                       discount_factor=1.0, alpha=0.5, seed=42,\n",
    "                                 analyse_states=[(0,2), (0,1), (14,2), (2,1)]):\n",
    "\n",
    "    \n",
    "    np.random.seed(seed)\n",
    "    \n",
    "    # Keep track of useful statistics\n",
    "    stats = []\n",
    "    \n",
    "    Q = np.zeros((env.env.nS, env.env.nA))\n",
    "    C = np.zeros((env.env.nS, env.env.nA))\n",
    "    \n",
    "    analysis_values = dict((k,[]) for k in analyse_states)\n",
    "    \n",
    "    for i_episode in tqdm(range(num_episodes)):\n",
    "        i = 0\n",
    "        R = 0\n",
    "        \n",
    "        behavior_policy.Q = Q\n",
    "        target_policy.Q = Q\n",
    "        \n",
    "        s = defaultdict(lambda: defaultdict(float))\n",
    "        a = defaultdict(lambda: defaultdict(float))\n",
    "        r = defaultdict(lambda: defaultdict(float))\n",
    "            \n",
    "        s[0] = env.reset()\n",
    "        a[0] = behavior_policy.sample_action(s[0])\n",
    "        \n",
    "        T = np.inf\n",
    "        t = 0\n",
    "        while True:\n",
    "            if t < T:\n",
    "                # Take action\n",
    "                s[t+1], r[t+1], final_state, _ = env.step(a[t])\n",
    "                R += r[t+1]\n",
    "                i += 1\n",
    "                \n",
    "                if final_state:\n",
    "                    T = t + 1\n",
    "                else:\n",
    "                    # Sample action from next state\n",
    "                    a[t+1] = behavior_policy.sample_action(s[t+1])\n",
    "            \n",
    "            tau = t - n + 1\n",
    "            \n",
    "            if tau >= 0:\n",
    "                # Collect states and actions included in ratio\n",
    "                last_step_rho = min([tau + n, T - 1])\n",
    "                first_step = tau + 1\n",
    "                states = [value for key, value in s.items() if key in range(first_step, last_step_rho+1)]\n",
    "                actions = [value for key, value in a.items() if key in range(first_step, last_step_rho+1)]\n",
    "                \n",
    "                # n-step importance sampling ratio\n",
    "                rho = np.prod([(target_policy.get_probs([state],[action]))/(behavior_policy.get_probs([state],[action])) for state, action in zip(states, actions)])\n",
    "                \n",
    "                # n-step return\n",
    "                last_step_G = min([tau + n, T])\n",
    "                G = np.sum([discount_factor**(i - tau - 1) * r[i] for i in range(first_step, last_step_G)])\n",
    "                if tau + n < T:\n",
    "                    G += discount_factor**n * Q[s[tau+n]][a[tau+n]]\n",
    "\n",
    "                # Update Q - ordinary importance sampling: divided by number of steps? \n",
    "                if weighted:\n",
    "                    Q[s[tau]][a[tau]] += alpha * (G - Q[s[tau]][a[tau]])\n",
    "                else:\n",
    "                    Q[s[tau]][a[tau]] += alpha * rho * (G - Q[s[tau]][a[tau]])\n",
    "            \n",
    "            if tau == T - 1:\n",
    "                break\n",
    "                         \n",
    "            t += 1\n",
    "\n",
    "        stats.append((i, R))\n",
    "        \n",
    "        for (s,a) in analyse_states:\n",
    "            analysis_values[(s,a)].append(Q[s][a])\n",
    "    \n",
    "    episode_lengths, episode_returns = zip(*stats)\n",
    "    \n",
    "    return Q, episode_lengths, analysis_values"
   ]
  },
  {
   "cell_type": "code",
   "execution_count": 102,
   "metadata": {},
   "outputs": [
    {
     "name": "stderr",
     "output_type": "stream",
     "text": [
      "  0%|          | 0/5000 [00:00<?, ?it/s]"
     ]
    },
    {
     "name": "stdout",
     "output_type": "stream",
     "text": [
      "Updating Q using ordinary importance sampling (5000 episodes)\n"
     ]
    },
    {
     "name": "stderr",
     "output_type": "stream",
     "text": [
      "100%|██████████| 5000/5000 [00:09<00:00, 500.17it/s]\n",
      "  0%|          | 0/5000 [00:00<?, ?it/s]"
     ]
    },
    {
     "name": "stdout",
     "output_type": "stream",
     "text": [
      "Updating Q using weighted importance sampling (5000 episodes)\n"
     ]
    },
    {
     "name": "stderr",
     "output_type": "stream",
     "text": [
      "100%|██████████| 5000/5000 [00:09<00:00, 518.57it/s]\n"
     ]
    }
   ],
   "source": [
    "# Reproducible\n",
    "seed = 42\n",
    "\n",
    "# set other parameters\n",
    "epsilon = 0.2\n",
    "gamma = 0.99\n",
    "num_episodes = 5000\n",
    "Q = np.zeros((env.env.nS, env.env.nA))\n",
    "behavioral_policy = EpsilonGreedyPolicy(Q, epsilon=epsilon)\n",
    "target_policy = GreedyPolicy(Q)\n",
    "\n",
    "# the episode length is equal to the negative return. \n",
    "print(f\"Updating Q using ordinary importance sampling ({num_episodes} episodes)\")\n",
    "Q_sarsa_ordinary, sarsa_ordinary_epslengths, sarsa_analysis_ordinary = n_step_sarsa_importance_sampling(env, \n",
    "                                                               behavioral_policy, target_policy, \n",
    "                                                               num_episodes, n=1, weighted=False,\n",
    "                                                                         discount_factor=gamma, seed=seed)\n",
    "\n",
    "Q = np.zeros((env.env.nS, env.env.nA))\n",
    "behavioral_policy = EpsilonGreedyPolicy(Q, epsilon=epsilon)\n",
    "target_policy = GreedyPolicy(Q)\n",
    "\n",
    "\n",
    "print(f\"Updating Q using weighted importance sampling ({num_episodes} episodes)\")\n",
    "Q_nstep_weighted, nstep_weighted_epslengths, nstep_analysis_weighted = n_step_sarsa_importance_sampling(env, \n",
    "                                                               behavioral_policy, target_policy, \n",
    "                                                               num_episodes, n=1, weighted=True,\n",
    "                                                                         discount_factor=gamma, seed=seed)\n"
   ]
  },
  {
   "cell_type": "code",
   "execution_count": 96,
   "metadata": {},
   "outputs": [
    {
     "name": "stdout",
     "output_type": "stream",
     "text": [
      "resulting episode length ordinary: 2\n",
      "resulting episode length weighted: 3\n"
     ]
    }
   ],
   "source": [
    "# check how long an episode takes under the found Q function\n",
    "greedy_ordinary = GreedyPolicy(Q_nstep_ordinary)\n",
    "greedy_weighted = GreedyPolicy(Q_nstep_weighted)\n",
    "\n",
    "ordinary_episode = sample_episode(env, greedy_ordinary)\n",
    "weighted_episode = sample_episode(env, greedy_weighted)\n",
    "\n",
    "print(f\"resulting episode length ordinary: {len(ordinary_episode[0])}\")\n",
    "print(f\"resulting episode length weighted: {len(weighted_episode[0])}\")"
   ]
  },
  {
   "cell_type": "code",
   "execution_count": 97,
   "metadata": {},
   "outputs": [
    {
     "data": {
      "image/png": "[encoded data removed]",
      "text/plain": [
       "<Figure size 432x288 with 1 Axes>"
      ]
     },
     "metadata": {
      "needs_background": "light"
     },
     "output_type": "display_data"
    }
   ],
   "source": [
    "def running_mean(vals, n=1):\n",
    "    assert n < len(vals)\n",
    "    cumvals = np.array(vals).cumsum()\n",
    "    return (cumvals[n:] - cumvals[:-n]) / n \n",
    "\n",
    "# set smoothing factor\n",
    "n = 5\n",
    "\n",
    "plt.plot(running_mean(sarsa_ordinary_epslengths, n), label=\"ordinary\")\n",
    "plt.plot(running_mean(sarsa_weighted_epslengths, n), label=\"weighted\")\n",
    "# plt.hlines(num_episodes)\n",
    "plt.title('Episode lengths MC')\n",
    "# plt.yscale(\"log\")\n",
    "plt.legend()\n",
    "# plt.gca().set_ylim([0, 100])\n",
    "plt.show()"
   ]
  },
  {
   "cell_type": "code",
   "execution_count": null,
   "metadata": {},
   "outputs": [],
   "source": []
  },
  {
   "cell_type": "code",
   "execution_count": null,
   "metadata": {},
   "outputs": [],
   "source": []
  },
  {
   "cell_type": "code",
   "execution_count": null,
   "metadata": {},
   "outputs": [],
   "source": []
  },
  {
   "cell_type": "code",
   "execution_count": null,
   "metadata": {},
   "outputs": [],
   "source": []
  },
  {
   "cell_type": "code",
   "execution_count": null,
   "metadata": {},
   "outputs": [],
   "source": []
  },
  {
   "cell_type": "code",
   "execution_count": null,
   "metadata": {},
   "outputs": [],
   "source": []
  },
  {
   "cell_type": "code",
   "execution_count": 72,
   "metadata": {},
   "outputs": [
    {
     "name": "stdout",
     "output_type": "stream",
     "text": [
      "\n",
      "\u001b[41mS\u001b[0mFFF\n",
      "FHFH\n",
      "FFFH\n",
      "HFFG\n",
      "  (Up)\n",
      "\u001b[41mS\u001b[0mFFF\n",
      "FHFH\n",
      "FFFH\n",
      "HFFG\n"
     ]
    }
   ],
   "source": [
    "s = env.reset()\n",
    "env.render()\n",
    "env.step(3)\n",
    "env.render()"
   ]
  }
 ],
 "metadata": {
  "kernelspec": {
   "display_name": "Python 3",
   "language": "python",
   "name": "python3"
  },
  "language_info": {
   "codemirror_mode": {
    "name": "ipython",
    "version": 3
   },
   "file_extension": ".py",
   "mimetype": "text/x-python",
   "name": "python",
   "nbconvert_exporter": "python",
   "pygments_lexer": "ipython3",
   "version": "3.7.3"
  }
 },
 "nbformat": 4,
 "nbformat_minor": 4
}
